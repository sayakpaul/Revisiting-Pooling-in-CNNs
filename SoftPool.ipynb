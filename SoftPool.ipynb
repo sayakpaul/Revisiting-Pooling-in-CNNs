{
  "nbformat": 4,
  "nbformat_minor": 0,
  "metadata": {
    "colab": {
      "name": "SoftPool.ipynb",
      "provenance": [],
      "collapsed_sections": [],
      "authorship_tag": "ABX9TyP222BGd15JzjYWbxJ50j2s",
      "include_colab_link": true
    },
    "kernelspec": {
      "name": "python3",
      "display_name": "Python 3"
    },
    "accelerator": "GPU"
  },
  "cells": [
    {
      "cell_type": "markdown",
      "metadata": {
        "id": "view-in-github",
        "colab_type": "text"
      },
      "source": [
        "<a href=\"https://colab.research.google.com/github/sayakpaul/Revisiting-Pooling-in-CNNs/blob/main/SoftPool.ipynb\" target=\"_parent\"><img src=\"https://colab.research.google.com/assets/colab-badge.svg\" alt=\"Open In Colab\"/></a>"
      ]
    },
    {
      "cell_type": "markdown",
      "metadata": {
        "id": "tEa0JyMabv3T"
      },
      "source": [
        "This notebook implements the SoftPool layer as proposed in the [Refining activation downsampling with SoftPool](https://arxiv.org/pdf/2101.00440.pdf) paper. We will also see how to use its 2D variant inside a shallow CNN and train the network. We will be using the CIFAR10 dataset for this purpose.  "
      ]
    },
    {
      "cell_type": "markdown",
      "metadata": {
        "id": "2Y-7x3FxcHRC"
      },
      "source": [
        "## Initial Setup"
      ]
    },
    {
      "cell_type": "code",
      "metadata": {
        "colab": {
          "base_uri": "https://localhost:8080/"
        },
        "id": "cTIftETrPo3v",
        "outputId": "dbece64a-6437-4734-bb1b-db4ff49ccbd5"
      },
      "source": [
        "!nvidia-smi"
      ],
      "execution_count": 1,
      "outputs": [
        {
          "output_type": "stream",
          "text": [
            "Tue Jan 26 09:29:11 2021       \n",
            "+-----------------------------------------------------------------------------+\n",
            "| NVIDIA-SMI 460.32.03    Driver Version: 418.67       CUDA Version: 10.1     |\n",
            "|-------------------------------+----------------------+----------------------+\n",
            "| GPU  Name        Persistence-M| Bus-Id        Disp.A | Volatile Uncorr. ECC |\n",
            "| Fan  Temp  Perf  Pwr:Usage/Cap|         Memory-Usage | GPU-Util  Compute M. |\n",
            "|                               |                      |               MIG M. |\n",
            "|===============================+======================+======================|\n",
            "|   0  Tesla T4            Off  | 00000000:00:04.0 Off |                    0 |\n",
            "| N/A   48C    P8    10W /  70W |      0MiB / 15079MiB |      0%      Default |\n",
            "|                               |                      |                 ERR! |\n",
            "+-------------------------------+----------------------+----------------------+\n",
            "                                                                               \n",
            "+-----------------------------------------------------------------------------+\n",
            "| Processes:                                                                  |\n",
            "|  GPU   GI   CI        PID   Type   Process name                  GPU Memory |\n",
            "|        ID   ID                                                   Usage      |\n",
            "|=============================================================================|\n",
            "|  No running processes found                                                 |\n",
            "+-----------------------------------------------------------------------------+\n"
          ],
          "name": "stdout"
        }
      ]
    },
    {
      "cell_type": "code",
      "metadata": {
        "colab": {
          "base_uri": "https://localhost:8080/"
        },
        "id": "BiZ7ZsKdQMEu",
        "outputId": "1fd5f22a-d426-4f8d-b689-500cd750047a"
      },
      "source": [
        "import tensorflow as tf\n",
        "tf.random.set_seed(666)\n",
        "print(tf.__version__)"
      ],
      "execution_count": 2,
      "outputs": [
        {
          "output_type": "stream",
          "text": [
            "2.4.0\n"
          ],
          "name": "stdout"
        }
      ]
    },
    {
      "cell_type": "code",
      "metadata": {
        "id": "zIWUYHIsTXx6"
      },
      "source": [
        "import matplotlib.pyplot as plt\n",
        "import time"
      ],
      "execution_count": 3,
      "outputs": []
    },
    {
      "cell_type": "markdown",
      "metadata": {
        "id": "E8dg_dpMcPa7"
      },
      "source": [
        "## CIFAR10 dataset"
      ]
    },
    {
      "cell_type": "code",
      "metadata": {
        "colab": {
          "base_uri": "https://localhost:8080/"
        },
        "id": "vL6iXo0DQUQq",
        "outputId": "e48965f6-bfdd-4980-b1d0-837df89dfae2"
      },
      "source": [
        "(x_train, y_train), (x_test, y_test) = tf.keras.datasets.cifar10.load_data()\n",
        "print(x_train.shape, y_train.shape, x_test.shape, y_test.shape)"
      ],
      "execution_count": 4,
      "outputs": [
        {
          "output_type": "stream",
          "text": [
            "Downloading data from https://www.cs.toronto.edu/~kriz/cifar-10-python.tar.gz\n",
            "170500096/170498071 [==============================] - 2s 0us/step\n",
            "(50000, 32, 32, 3) (50000, 1) (10000, 32, 32, 3) (10000, 1)\n"
          ],
          "name": "stdout"
        }
      ]
    },
    {
      "cell_type": "markdown",
      "metadata": {
        "id": "Ja4MfH_wcRL7"
      },
      "source": [
        "## Preprocessing Utilities"
      ]
    },
    {
      "cell_type": "code",
      "metadata": {
        "id": "P5n25h7yQeb5"
      },
      "source": [
        "AUTO = tf.data.experimental.AUTOTUNE\n",
        "BATCH_SIZE = 128\n",
        "\n",
        "trainloader = tf.data.Dataset.from_tensor_slices((x_train, y_train))\n",
        "testloader = tf.data.Dataset.from_tensor_slices((x_test, y_test))\n",
        "\n",
        "@tf.function\n",
        "def preprocess_image(image, label):\n",
        "  image = tf.image.convert_image_dtype(image, tf.float32)\n",
        "  return image, label\n",
        "\n",
        "trainloader = (\n",
        "    trainloader\n",
        "    .shuffle(1024)\n",
        "    .map(preprocess_image, num_parallel_calls=AUTO)\n",
        "    .batch(BATCH_SIZE)\n",
        "    .prefetch(AUTO)\n",
        ")\n",
        "\n",
        "testloader = (\n",
        "    testloader\n",
        "    .map(preprocess_image, num_parallel_calls=AUTO)\n",
        "    .batch(BATCH_SIZE)\n",
        "    .prefetch(AUTO)\n",
        ")"
      ],
      "execution_count": 5,
      "outputs": []
    },
    {
      "cell_type": "markdown",
      "metadata": {
        "id": "337rI7oScUi0"
      },
      "source": [
        "## Layer and Model Definitions"
      ]
    },
    {
      "cell_type": "code",
      "metadata": {
        "id": "8IWPKaR6RLVk"
      },
      "source": [
        "# Reference:\n",
        "# https://github.com/qwopqwop200/SoftPool/blob/main/tensorflow_softpool.py#L14-#L22\n",
        "class SoftPooling2D(tf.keras.layers.Layer):\n",
        "    \"\"\"Implements SoftPool as proposed in https://arxiv.org/pdf/2101.00440.pdf.\"\"\"\n",
        "    def __init__(self,pool_size=(2, 2),strides=None,padding='valid',data_format=None):\n",
        "        super(SoftPooling2D, self).__init__()\n",
        "        self.avgpool = tf.keras.layers.AvgPool2D(pool_size,strides,padding,data_format)\n",
        "    def call(self, x):\n",
        "        x_exp = tf.math.exp(x)\n",
        "        x_exp_pool = self.avgpool(x_exp)\n",
        "        x = self.avgpool(x_exp*x)\n",
        "        return x/x_exp_pool"
      ],
      "execution_count": 6,
      "outputs": []
    },
    {
      "cell_type": "markdown",
      "metadata": {
        "id": "tu0-pJ9KSUX2"
      },
      "source": [
        "**Note**: All the hyperparameters like `strides`, `pool_size`, `padding` have been set to their default specifications. "
      ]
    },
    {
      "cell_type": "code",
      "metadata": {
        "id": "ic8u8QqJQu8B"
      },
      "source": [
        "# Reference:\n",
        "# https://github.com/ayulockin/LossLandscape/blob/master/MediumCNN_Cifar10.ipynb\n",
        "def conv_block(x, nb_channels, padding='same', dropout=0.1, \n",
        "               pool_type=tf.keras.layers.MaxPool2D):\n",
        "    x = tf.keras.layers.Conv2D(nb_channels, (3,3), padding=padding, \n",
        "                               activation='relu', \n",
        "                               kernel_initializer='he_normal')(x)\n",
        "    x = tf.keras.layers.Dropout(dropout)(x)\n",
        "    return pool_type()(x)\n",
        "\n",
        "def get_training_model(pool_type=tf.keras.layers.MaxPool2D):\n",
        "    inputs = tf.keras.layers.Input(shape=(32, 32, 3))\n",
        "\n",
        "    x = conv_block(inputs, 32)\n",
        "    x = conv_block(x, 64, padding='valid')\n",
        "    x = conv_block(x, 128)\n",
        "    x = conv_block(x, 256)\n",
        "\n",
        "    x = tf.keras.layers.GlobalAveragePooling2D()(x)\n",
        "    x = tf.keras.layers.Dense(32, activation='relu')(x)\n",
        "    x = tf.keras.layers.Dropout(0.1)(x)\n",
        "\n",
        "    outputs = tf.keras.layers.Dense(10, activation='softmax')(x)\n",
        "\n",
        "    return tf.keras.Model(inputs=inputs, outputs=outputs)"
      ],
      "execution_count": 7,
      "outputs": []
    },
    {
      "cell_type": "markdown",
      "metadata": {
        "id": "8QiJJsbccYYx"
      },
      "source": [
        "## Model Training Utilities"
      ]
    },
    {
      "cell_type": "code",
      "metadata": {
        "id": "ovRYjuG3ThMb"
      },
      "source": [
        "def plot_training(H):\n",
        "\tplt.plot(H.history[\"loss\"], label=\"train_loss\")\n",
        "\tplt.plot(H.history[\"val_loss\"], label=\"val_loss\")\n",
        "\tplt.plot(H.history[\"accuracy\"], label=\"train_acc\")\n",
        "\tplt.plot(H.history[\"val_accuracy\"], label=\"val_acc\")\n",
        "\tplt.title(\"Loss and Accuracy\")\n",
        "\tplt.xlabel(\"Epoch #\")\n",
        "\tplt.ylabel(\"Loss/Accuracy\")\n",
        "\tplt.legend(loc=\"lower left\")\n",
        "\tplt.show()"
      ],
      "execution_count": 8,
      "outputs": []
    },
    {
      "cell_type": "code",
      "metadata": {
        "id": "jSl9vorgURoW"
      },
      "source": [
        "# Early stopping callback to prevent from overfitting\n",
        "es = tf.keras.callbacks.EarlyStopping(patience=5, restore_best_weights=True)"
      ],
      "execution_count": 9,
      "outputs": []
    },
    {
      "cell_type": "markdown",
      "metadata": {
        "id": "N1iw2FVtcbba"
      },
      "source": [
        "## Model Training"
      ]
    },
    {
      "cell_type": "code",
      "metadata": {
        "colab": {
          "base_uri": "https://localhost:8080/",
          "height": 924
        },
        "id": "iJmzhK_5S3AM",
        "outputId": "f0eb06f0-1911-4d4b-9fe9-f17b46565749"
      },
      "source": [
        "# MaxPooling\n",
        "max_pool_model = get_training_model()\n",
        "max_pool_model.compile('adam', 'sparse_categorical_crossentropy', metrics=['accuracy'])\n",
        "start = time.time()\n",
        "history = max_pool_model.fit(trainloader,\n",
        "                        epochs=40,\n",
        "                        validation_data=testloader,\n",
        "                        callbacks=[es])\n",
        "end = time.time()\n",
        "print(\"Network takes {:.3f} seconds to train\".format(end - start))\n",
        "plot_training(history)\n",
        "acc = max_pool_model.evaluate(testloader)[1]\n",
        "print(\"Final test accuracy: {:.3f}%\".format(acc*100))"
      ],
      "execution_count": 16,
      "outputs": [
        {
          "output_type": "stream",
          "text": [
            "Epoch 1/40\n",
            "391/391 [==============================] - 4s 10ms/step - loss: 2.1908 - accuracy: 0.1787 - val_loss: 1.5764 - val_accuracy: 0.4589\n",
            "Epoch 2/40\n",
            "391/391 [==============================] - 4s 9ms/step - loss: 1.5183 - accuracy: 0.4437 - val_loss: 1.2875 - val_accuracy: 0.5713\n",
            "Epoch 3/40\n",
            "391/391 [==============================] - 4s 9ms/step - loss: 1.2660 - accuracy: 0.5452 - val_loss: 1.1569 - val_accuracy: 0.6094\n",
            "Epoch 4/40\n",
            "391/391 [==============================] - 4s 10ms/step - loss: 1.1180 - accuracy: 0.6014 - val_loss: 0.9977 - val_accuracy: 0.6687\n",
            "Epoch 5/40\n",
            "391/391 [==============================] - 4s 9ms/step - loss: 0.9900 - accuracy: 0.6504 - val_loss: 0.8963 - val_accuracy: 0.7045\n",
            "Epoch 6/40\n",
            "391/391 [==============================] - 4s 9ms/step - loss: 0.8722 - accuracy: 0.6974 - val_loss: 0.8435 - val_accuracy: 0.7184\n",
            "Epoch 7/40\n",
            "391/391 [==============================] - 4s 9ms/step - loss: 0.7937 - accuracy: 0.7246 - val_loss: 0.8090 - val_accuracy: 0.7318\n",
            "Epoch 8/40\n",
            "391/391 [==============================] - 4s 9ms/step - loss: 0.7205 - accuracy: 0.7490 - val_loss: 0.7786 - val_accuracy: 0.7347\n",
            "Epoch 9/40\n",
            "391/391 [==============================] - 4s 9ms/step - loss: 0.6498 - accuracy: 0.7748 - val_loss: 0.7631 - val_accuracy: 0.7413\n",
            "Epoch 10/40\n",
            "391/391 [==============================] - 4s 9ms/step - loss: 0.5946 - accuracy: 0.7951 - val_loss: 0.7473 - val_accuracy: 0.7492\n",
            "Epoch 11/40\n",
            "391/391 [==============================] - 4s 9ms/step - loss: 0.5483 - accuracy: 0.8086 - val_loss: 0.7808 - val_accuracy: 0.7346\n",
            "Epoch 12/40\n",
            "391/391 [==============================] - 4s 9ms/step - loss: 0.4968 - accuracy: 0.8263 - val_loss: 0.7363 - val_accuracy: 0.7555\n",
            "Epoch 13/40\n",
            "391/391 [==============================] - 4s 9ms/step - loss: 0.4681 - accuracy: 0.8380 - val_loss: 0.7658 - val_accuracy: 0.7468\n",
            "Epoch 14/40\n",
            "391/391 [==============================] - 4s 10ms/step - loss: 0.4158 - accuracy: 0.8553 - val_loss: 0.7859 - val_accuracy: 0.7458\n",
            "Epoch 15/40\n",
            "391/391 [==============================] - 4s 9ms/step - loss: 0.3931 - accuracy: 0.8634 - val_loss: 0.8115 - val_accuracy: 0.7493\n",
            "Epoch 16/40\n",
            "391/391 [==============================] - 4s 9ms/step - loss: 0.3677 - accuracy: 0.8708 - val_loss: 0.8260 - val_accuracy: 0.7474\n",
            "Epoch 17/40\n",
            "391/391 [==============================] - 4s 9ms/step - loss: 0.3408 - accuracy: 0.8833 - val_loss: 0.8023 - val_accuracy: 0.7525\n",
            "Network takes 63.583 seconds to train\n"
          ],
          "name": "stdout"
        },
        {
          "output_type": "display_data",
          "data": {
            "image/png": "[encoded data removed]",
            "text/plain": [
              "<Figure size 432x288 with 1 Axes>"
            ]
          },
          "metadata": {
            "tags": [],
            "needs_background": "light"
          }
        },
        {
          "output_type": "stream",
          "text": [
            "79/79 [==============================] - 0s 4ms/step - loss: 0.7363 - accuracy: 0.7555\n",
            "Final test accuracy: 75.550%\n"
          ],
          "name": "stdout"
        }
      ]
    },
    {
      "cell_type": "code",
      "metadata": {
        "colab": {
          "base_uri": "https://localhost:8080/",
          "height": 856
        },
        "id": "sNuZ0T2oU4QD",
        "outputId": "21871286-b07b-4d3d-8522-206508e489e5"
      },
      "source": [
        "# SoftPooling\n",
        "soft_pool_model = get_training_model(pool_type=SoftPooling2D)\n",
        "soft_pool_model.compile('adam', 'sparse_categorical_crossentropy', metrics=['accuracy'])\n",
        "start = time.time()\n",
        "history = soft_pool_model.fit(trainloader,\n",
        "                        epochs=40,\n",
        "                        validation_data=testloader,\n",
        "                        callbacks=[es])\n",
        "end = time.time()\n",
        "print(\"Network takes {:.3f} seconds to train\".format(end - start))\n",
        "plot_training(history)\n",
        "acc = soft_pool_model.evaluate(testloader)[1]\n",
        "print(\"Final test accuracy: {:.3f}%\".format(acc*100))"
      ],
      "execution_count": 17,
      "outputs": [
        {
          "output_type": "stream",
          "text": [
            "Epoch 1/40\n",
            "391/391 [==============================] - 4s 10ms/step - loss: 2.0402 - accuracy: 0.2510 - val_loss: 1.4370 - val_accuracy: 0.5035\n",
            "Epoch 2/40\n",
            "391/391 [==============================] - 4s 9ms/step - loss: 1.4116 - accuracy: 0.4859 - val_loss: 1.2184 - val_accuracy: 0.5842\n",
            "Epoch 3/40\n",
            "391/391 [==============================] - 4s 9ms/step - loss: 1.1688 - accuracy: 0.5838 - val_loss: 1.0245 - val_accuracy: 0.6612\n",
            "Epoch 4/40\n",
            "391/391 [==============================] - 4s 9ms/step - loss: 1.0046 - accuracy: 0.6487 - val_loss: 0.9352 - val_accuracy: 0.6869\n",
            "Epoch 5/40\n",
            "391/391 [==============================] - 4s 9ms/step - loss: 0.8904 - accuracy: 0.6892 - val_loss: 0.8698 - val_accuracy: 0.7080\n",
            "Epoch 6/40\n",
            "391/391 [==============================] - 4s 9ms/step - loss: 0.7960 - accuracy: 0.7249 - val_loss: 0.8180 - val_accuracy: 0.7227\n",
            "Epoch 7/40\n",
            "391/391 [==============================] - 4s 9ms/step - loss: 0.7077 - accuracy: 0.7554 - val_loss: 0.8241 - val_accuracy: 0.7158\n",
            "Epoch 8/40\n",
            "391/391 [==============================] - 4s 9ms/step - loss: 0.6566 - accuracy: 0.7701 - val_loss: 0.7741 - val_accuracy: 0.7399\n",
            "Epoch 9/40\n",
            "391/391 [==============================] - 4s 9ms/step - loss: 0.5839 - accuracy: 0.7982 - val_loss: 0.7516 - val_accuracy: 0.7408\n",
            "Epoch 10/40\n",
            "391/391 [==============================] - 4s 9ms/step - loss: 0.5388 - accuracy: 0.8113 - val_loss: 0.7352 - val_accuracy: 0.7524\n",
            "Epoch 11/40\n",
            "391/391 [==============================] - 4s 9ms/step - loss: 0.4874 - accuracy: 0.8315 - val_loss: 0.7686 - val_accuracy: 0.7424\n",
            "Epoch 12/40\n",
            "391/391 [==============================] - 4s 10ms/step - loss: 0.4449 - accuracy: 0.8470 - val_loss: 0.7555 - val_accuracy: 0.7479\n",
            "Epoch 13/40\n",
            "391/391 [==============================] - 4s 9ms/step - loss: 0.3986 - accuracy: 0.8609 - val_loss: 0.7765 - val_accuracy: 0.7456\n",
            "Epoch 14/40\n",
            "391/391 [==============================] - 4s 10ms/step - loss: 0.3754 - accuracy: 0.8682 - val_loss: 0.8013 - val_accuracy: 0.7520\n",
            "Epoch 15/40\n",
            "391/391 [==============================] - 4s 9ms/step - loss: 0.3510 - accuracy: 0.8762 - val_loss: 0.7984 - val_accuracy: 0.7497\n",
            "Network takes 56.126 seconds to train\n"
          ],
          "name": "stdout"
        },
        {
          "output_type": "display_data",
          "data": {
            "image/png": "[encoded data removed]",
            "text/plain": [
              "<Figure size 432x288 with 1 Axes>"
            ]
          },
          "metadata": {
            "tags": [],
            "needs_background": "light"
          }
        },
        {
          "output_type": "stream",
          "text": [
            "79/79 [==============================] - 0s 4ms/step - loss: 0.7352 - accuracy: 0.7524\n",
            "Final test accuracy: 75.240%\n"
          ],
          "name": "stdout"
        }
      ]
    }
  ]
}