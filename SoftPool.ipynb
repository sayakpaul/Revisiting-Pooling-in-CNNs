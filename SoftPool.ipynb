{
  "nbformat": 4,
  "nbformat_minor": 0,
  "metadata": {
    "colab": {
      "name": "SoftPool.ipynb",
      "provenance": [],
      "collapsed_sections": [],
      "authorship_tag": "ABX9TyN5XNafyULkuUGdLO1/wwVL",
      "include_colab_link": true
    },
    "kernelspec": {
      "name": "python3",
      "display_name": "Python 3"
    },
    "accelerator": "GPU"
  },
  "cells": [
    {
      "cell_type": "markdown",
      "metadata": {
        "id": "view-in-github",
        "colab_type": "text"
      },
      "source": [
        "<a href=\"https://colab.research.google.com/github/sayakpaul/Revisiting-Pooling-in-CNNs/blob/main/SoftPool.ipynb\" target=\"_parent\"><img src=\"https://colab.research.google.com/assets/colab-badge.svg\" alt=\"Open In Colab\"/></a>"
      ]
    },
    {
      "cell_type": "markdown",
      "metadata": {
        "id": "tEa0JyMabv3T"
      },
      "source": [
        "This notebook implements the SoftPool layer as proposed in the [Refining activation downsampling with SoftPool](https://arxiv.org/pdf/2101.00440.pdf) paper. We will also see how to use its 2D variant inside a shallow CNN and train the network. We will be using the CIFAR10 dataset for this purpose.  "
      ]
    },
    {
      "cell_type": "markdown",
      "metadata": {
        "id": "2Y-7x3FxcHRC"
      },
      "source": [
        "## Initial Setup"
      ]
    },
    {
      "cell_type": "code",
      "metadata": {
        "colab": {
          "base_uri": "https://localhost:8080/"
        },
        "id": "cTIftETrPo3v",
        "outputId": "a93b0710-d2e5-45a5-fa51-405c4b1e2bed"
      },
      "source": [
        "!nvidia-smi"
      ],
      "execution_count": 1,
      "outputs": [
        {
          "output_type": "stream",
          "text": [
            "Tue Jan 26 05:53:17 2021       \n",
            "+-----------------------------------------------------------------------------+\n",
            "| NVIDIA-SMI 460.32.03    Driver Version: 418.67       CUDA Version: 10.1     |\n",
            "|-------------------------------+----------------------+----------------------+\n",
            "| GPU  Name        Persistence-M| Bus-Id        Disp.A | Volatile Uncorr. ECC |\n",
            "| Fan  Temp  Perf  Pwr:Usage/Cap|         Memory-Usage | GPU-Util  Compute M. |\n",
            "|                               |                      |               MIG M. |\n",
            "|===============================+======================+======================|\n",
            "|   0  Tesla T4            Off  | 00000000:00:04.0 Off |                    0 |\n",
            "| N/A   65C    P8    11W /  70W |      0MiB / 15079MiB |      0%      Default |\n",
            "|                               |                      |                 ERR! |\n",
            "+-------------------------------+----------------------+----------------------+\n",
            "                                                                               \n",
            "+-----------------------------------------------------------------------------+\n",
            "| Processes:                                                                  |\n",
            "|  GPU   GI   CI        PID   Type   Process name                  GPU Memory |\n",
            "|        ID   ID                                                   Usage      |\n",
            "|=============================================================================|\n",
            "|  No running processes found                                                 |\n",
            "+-----------------------------------------------------------------------------+\n"
          ],
          "name": "stdout"
        }
      ]
    },
    {
      "cell_type": "code",
      "metadata": {
        "colab": {
          "base_uri": "https://localhost:8080/"
        },
        "id": "BiZ7ZsKdQMEu",
        "outputId": "e9d33c48-26b3-4328-9381-db20b6b5886d"
      },
      "source": [
        "import tensorflow as tf\n",
        "tf.random.set_seed(666)\n",
        "print(tf.__version__)"
      ],
      "execution_count": 2,
      "outputs": [
        {
          "output_type": "stream",
          "text": [
            "2.4.0\n"
          ],
          "name": "stdout"
        }
      ]
    },
    {
      "cell_type": "code",
      "metadata": {
        "id": "zIWUYHIsTXx6"
      },
      "source": [
        "import matplotlib.pyplot as plt\n",
        "import time"
      ],
      "execution_count": 9,
      "outputs": []
    },
    {
      "cell_type": "markdown",
      "metadata": {
        "id": "E8dg_dpMcPa7"
      },
      "source": [
        "## CIFAR10 dataset"
      ]
    },
    {
      "cell_type": "code",
      "metadata": {
        "colab": {
          "base_uri": "https://localhost:8080/"
        },
        "id": "vL6iXo0DQUQq",
        "outputId": "77975401-b288-4c5d-96a5-800518815b64"
      },
      "source": [
        "(x_train, y_train), (x_test, y_test) = tf.keras.datasets.cifar10.load_data()\n",
        "print(x_train.shape, y_train.shape, x_test.shape, y_test.shape)"
      ],
      "execution_count": 4,
      "outputs": [
        {
          "output_type": "stream",
          "text": [
            "Downloading data from https://www.cs.toronto.edu/~kriz/cifar-10-python.tar.gz\n",
            "170500096/170498071 [==============================] - 4s 0us/step\n",
            "(50000, 32, 32, 3) (50000, 1) (10000, 32, 32, 3) (10000, 1)\n"
          ],
          "name": "stdout"
        }
      ]
    },
    {
      "cell_type": "markdown",
      "metadata": {
        "id": "Ja4MfH_wcRL7"
      },
      "source": [
        "## Preprocessing Utilities"
      ]
    },
    {
      "cell_type": "code",
      "metadata": {
        "id": "P5n25h7yQeb5"
      },
      "source": [
        "AUTO = tf.data.experimental.AUTOTUNE\n",
        "BATCH_SIZE = 128\n",
        "\n",
        "trainloader = tf.data.Dataset.from_tensor_slices((x_train, y_train))\n",
        "testloader = tf.data.Dataset.from_tensor_slices((x_test, y_test))\n",
        "\n",
        "@tf.function\n",
        "def preprocess_image(image, label):\n",
        "  image = tf.image.convert_image_dtype(image, tf.float32)\n",
        "  return image, label\n",
        "\n",
        "trainloader = (\n",
        "    trainloader\n",
        "    .shuffle(1024)\n",
        "    .map(preprocess_image, num_parallel_calls=AUTO)\n",
        "    .batch(BATCH_SIZE)\n",
        "    .prefetch(AUTO)\n",
        ")\n",
        "\n",
        "testloader = (\n",
        "    testloader\n",
        "    .map(preprocess_image, num_parallel_calls=AUTO)\n",
        "    .batch(BATCH_SIZE)\n",
        "    .prefetch(AUTO)\n",
        ")"
      ],
      "execution_count": 5,
      "outputs": []
    },
    {
      "cell_type": "markdown",
      "metadata": {
        "id": "337rI7oScUi0"
      },
      "source": [
        "## Layer and Model Definitions"
      ]
    },
    {
      "cell_type": "code",
      "metadata": {
        "id": "8IWPKaR6RLVk"
      },
      "source": [
        "# Reference:\n",
        "# https://github.com/qwopqwop200/SoftPool/blob/main/tensorflow_softpool.py#L14-#L22\n",
        "class SoftPooling2D(tf.keras.layers.Layer):\n",
        "    \"\"\"Implements SoftPool as proposed in https://arxiv.org/pdf/2101.00440.pdf.\"\"\"\n",
        "    def __init__(self,pool_size=(2, 2),strides=None,padding='valid',data_format=None):\n",
        "        super(SoftPooling2D, self).__init__()\n",
        "        self.avgpool = tf.keras.layers.AvgPool2D(pool_size,strides,padding,data_format)\n",
        "    def call(self, x):\n",
        "        x_exp = tf.math.exp(x)\n",
        "        x_exp_pool = self.avgpool(x_exp)\n",
        "        x = self.avgpool(x_exp*x)\n",
        "        return x/x_exp_pool"
      ],
      "execution_count": 6,
      "outputs": []
    },
    {
      "cell_type": "markdown",
      "metadata": {
        "id": "tu0-pJ9KSUX2"
      },
      "source": [
        "**Note**: All the hyperparameters like `strides`, `pool_size`, `padding` have been set to their default specifications. "
      ]
    },
    {
      "cell_type": "code",
      "metadata": {
        "id": "ic8u8QqJQu8B"
      },
      "source": [
        "# Reference:\n",
        "# https://github.com/ayulockin/LossLandscape/blob/master/MediumCNN_Cifar10.ipynb\n",
        "def get_training_model(pool_type=tf.keras.layers.MaxPool2D):\n",
        "    inputs = tf.keras.layers.Input(shape=(32, 32, 3))\n",
        "\n",
        "    x = tf.keras.layers.Conv2D(32, (3,3), padding='same', activation='relu')(inputs)\n",
        "    x = tf.keras.layers.Dropout(0.1)(x)\n",
        "    x = pool_type()(x)\n",
        "\n",
        "    x = tf.keras.layers.Conv2D(64, (3,3), padding='valid', activation='relu')(x)\n",
        "    x = tf.keras.layers.Dropout(0.1)(x)\n",
        "    x = pool_type()(x)\n",
        "\n",
        "    x = tf.keras.layers.Conv2D(128, (3,3), padding='same', activation='relu')(x)\n",
        "    x = tf.keras.layers.Dropout(0.1)(x)\n",
        "    x = pool_type()(x)\n",
        "\n",
        "    x = tf.keras.layers.Conv2D(128, (3,3), padding='same', activation='relu')(x)\n",
        "    x = tf.keras.layers.Dropout(0.1)(x)\n",
        "    x = pool_type()(x)\n",
        "\n",
        "    x = tf.keras.layers.GlobalAveragePooling2D()(x)\n",
        "    x = tf.keras.layers.Dense(32, activation='relu')(x)\n",
        "    x = tf.keras.layers.Dropout(0.1)(x)\n",
        "\n",
        "    outputs = tf.keras.layers.Dense(10, activation='softmax')(x)\n",
        "\n",
        "    return tf.keras.Model(inputs=inputs, outputs=outputs)"
      ],
      "execution_count": 12,
      "outputs": []
    },
    {
      "cell_type": "markdown",
      "metadata": {
        "id": "8QiJJsbccYYx"
      },
      "source": [
        "## Model Training Utilities"
      ]
    },
    {
      "cell_type": "code",
      "metadata": {
        "id": "ovRYjuG3ThMb"
      },
      "source": [
        "def plot_training(H):\n",
        "\tplt.plot(H.history[\"loss\"], label=\"train_loss\")\n",
        "\tplt.plot(H.history[\"val_loss\"], label=\"val_loss\")\n",
        "\tplt.plot(H.history[\"accuracy\"], label=\"train_acc\")\n",
        "\tplt.plot(H.history[\"val_accuracy\"], label=\"val_acc\")\n",
        "\tplt.title(\"Loss and Accuracy\")\n",
        "\tplt.xlabel(\"Epoch #\")\n",
        "\tplt.ylabel(\"Loss/Accuracy\")\n",
        "\tplt.legend(loc=\"lower left\")\n",
        "\tplt.show()"
      ],
      "execution_count": 10,
      "outputs": []
    },
    {
      "cell_type": "code",
      "metadata": {
        "id": "jSl9vorgURoW"
      },
      "source": [
        "# Early stopping callback to prevent from overfitting\n",
        "es = tf.keras.callbacks.EarlyStopping(patience=5, restore_best_weights=True)"
      ],
      "execution_count": 14,
      "outputs": []
    },
    {
      "cell_type": "markdown",
      "metadata": {
        "id": "N1iw2FVtcbba"
      },
      "source": [
        "## Model Training"
      ]
    },
    {
      "cell_type": "code",
      "metadata": {
        "colab": {
          "base_uri": "https://localhost:8080/",
          "height": 958
        },
        "id": "iJmzhK_5S3AM",
        "outputId": "e0d23f10-acaa-4dd6-c9b4-ad255d739b12"
      },
      "source": [
        "# MaxPooling\n",
        "max_pool_model = get_training_model()\n",
        "max_pool_model.compile('adam', 'sparse_categorical_crossentropy', metrics=['accuracy'])\n",
        "start = time.time()\n",
        "history = max_pool_model.fit(trainloader,\n",
        "                        epochs=40,\n",
        "                        validation_data=testloader,\n",
        "                        callbacks=[es])\n",
        "end = time.time()\n",
        "print(\"Network takes {:.3f} seconds to train\".format(end - start))\n",
        "plot_training(history)\n",
        "acc = max_pool_model.evaluate(testloader)[1]\n",
        "print(\"Final test accuracy: {:.3f}%\".format(acc*100))"
      ],
      "execution_count": 24,
      "outputs": [
        {
          "output_type": "stream",
          "text": [
            "Epoch 1/40\n",
            "391/391 [==============================] - 4s 9ms/step - loss: 1.9429 - accuracy: 0.2797 - val_loss: 1.4975 - val_accuracy: 0.4790\n",
            "Epoch 2/40\n",
            "391/391 [==============================] - 4s 9ms/step - loss: 1.3792 - accuracy: 0.5006 - val_loss: 1.2124 - val_accuracy: 0.5812\n",
            "Epoch 3/40\n",
            "391/391 [==============================] - 4s 9ms/step - loss: 1.1598 - accuracy: 0.5833 - val_loss: 1.0559 - val_accuracy: 0.6427\n",
            "Epoch 4/40\n",
            "391/391 [==============================] - 4s 9ms/step - loss: 1.0324 - accuracy: 0.6359 - val_loss: 0.9410 - val_accuracy: 0.6810\n",
            "Epoch 5/40\n",
            "391/391 [==============================] - 4s 9ms/step - loss: 0.9283 - accuracy: 0.6751 - val_loss: 0.8973 - val_accuracy: 0.6939\n",
            "Epoch 6/40\n",
            "391/391 [==============================] - 4s 9ms/step - loss: 0.8423 - accuracy: 0.7054 - val_loss: 0.8482 - val_accuracy: 0.7128\n",
            "Epoch 7/40\n",
            "391/391 [==============================] - 4s 9ms/step - loss: 0.7666 - accuracy: 0.7336 - val_loss: 0.7864 - val_accuracy: 0.7327\n",
            "Epoch 8/40\n",
            "391/391 [==============================] - 4s 9ms/step - loss: 0.7160 - accuracy: 0.7526 - val_loss: 0.8029 - val_accuracy: 0.7264\n",
            "Epoch 9/40\n",
            "391/391 [==============================] - 4s 9ms/step - loss: 0.6737 - accuracy: 0.7666 - val_loss: 0.7385 - val_accuracy: 0.7436\n",
            "Epoch 10/40\n",
            "391/391 [==============================] - 4s 9ms/step - loss: 0.6256 - accuracy: 0.7856 - val_loss: 0.7213 - val_accuracy: 0.7506\n",
            "Epoch 11/40\n",
            "391/391 [==============================] - 4s 9ms/step - loss: 0.5850 - accuracy: 0.7994 - val_loss: 0.7177 - val_accuracy: 0.7537\n",
            "Epoch 12/40\n",
            "391/391 [==============================] - 4s 9ms/step - loss: 0.5670 - accuracy: 0.8041 - val_loss: 0.6982 - val_accuracy: 0.7593\n",
            "Epoch 13/40\n",
            "391/391 [==============================] - 4s 9ms/step - loss: 0.5310 - accuracy: 0.8150 - val_loss: 0.6864 - val_accuracy: 0.7647\n",
            "Epoch 14/40\n",
            "391/391 [==============================] - 4s 9ms/step - loss: 0.4853 - accuracy: 0.8319 - val_loss: 0.7371 - val_accuracy: 0.7523\n",
            "Epoch 15/40\n",
            "391/391 [==============================] - 4s 9ms/step - loss: 0.4744 - accuracy: 0.8342 - val_loss: 0.7218 - val_accuracy: 0.7572\n",
            "Epoch 16/40\n",
            "391/391 [==============================] - 4s 9ms/step - loss: 0.4483 - accuracy: 0.8450 - val_loss: 0.7299 - val_accuracy: 0.7568\n",
            "Epoch 17/40\n",
            "391/391 [==============================] - 4s 9ms/step - loss: 0.4273 - accuracy: 0.8506 - val_loss: 0.7430 - val_accuracy: 0.7569\n",
            "Epoch 18/40\n",
            "391/391 [==============================] - 4s 9ms/step - loss: 0.4137 - accuracy: 0.8570 - val_loss: 0.7386 - val_accuracy: 0.7531\n",
            "Network takes 66.082 seconds to train\n"
          ],
          "name": "stdout"
        },
        {
          "output_type": "display_data",
          "data": {
            "image/png": "[encoded data removed]",
            "text/plain": [
              "<Figure size 432x288 with 1 Axes>"
            ]
          },
          "metadata": {
            "tags": [],
            "needs_background": "light"
          }
        },
        {
          "output_type": "stream",
          "text": [
            "79/79 [==============================] - 0s 6ms/step - loss: 0.6864 - accuracy: 0.7647\n",
            "Final test accuracy: 76.470%\n"
          ],
          "name": "stdout"
        }
      ]
    },
    {
      "cell_type": "code",
      "metadata": {
        "colab": {
          "base_uri": "https://localhost:8080/",
          "height": 1000
        },
        "id": "sNuZ0T2oU4QD",
        "outputId": "0c7716a5-a1f4-403b-eebb-df3de6e0779f"
      },
      "source": [
        "# SoftPooling\n",
        "soft_pool_model = get_training_model(pool_type=SoftPooling2D)\n",
        "soft_pool_model.compile('adam', 'sparse_categorical_crossentropy', metrics=['accuracy'])\n",
        "start = time.time()\n",
        "history = soft_pool_model.fit(trainloader,\n",
        "                        epochs=40,\n",
        "                        validation_data=testloader,\n",
        "                        callbacks=[es])\n",
        "end = time.time()\n",
        "print(\"Network takes {:.3f} seconds to train\".format(end - start))\n",
        "plot_training(history)\n",
        "acc = soft_pool_model.evaluate(testloader)[1]\n",
        "print(\"Final test accuracy: {:.3f}%\".format(acc*100))"
      ],
      "execution_count": 25,
      "outputs": [
        {
          "output_type": "stream",
          "text": [
            "Epoch 1/40\n",
            "391/391 [==============================] - 6s 12ms/step - loss: 1.9881 - accuracy: 0.2611 - val_loss: 1.5188 - val_accuracy: 0.4544\n",
            "Epoch 2/40\n",
            "391/391 [==============================] - 5s 12ms/step - loss: 1.4970 - accuracy: 0.4506 - val_loss: 1.3855 - val_accuracy: 0.5056\n",
            "Epoch 3/40\n",
            "391/391 [==============================] - 5s 12ms/step - loss: 1.3553 - accuracy: 0.5118 - val_loss: 1.2434 - val_accuracy: 0.5627\n",
            "Epoch 4/40\n",
            "391/391 [==============================] - 5s 12ms/step - loss: 1.2307 - accuracy: 0.5579 - val_loss: 1.1341 - val_accuracy: 0.5971\n",
            "Epoch 5/40\n",
            "391/391 [==============================] - 5s 12ms/step - loss: 1.1390 - accuracy: 0.5953 - val_loss: 1.0442 - val_accuracy: 0.6309\n",
            "Epoch 6/40\n",
            "391/391 [==============================] - 5s 12ms/step - loss: 1.0650 - accuracy: 0.6256 - val_loss: 1.0207 - val_accuracy: 0.6457\n",
            "Epoch 7/40\n",
            "391/391 [==============================] - 5s 12ms/step - loss: 1.0012 - accuracy: 0.6467 - val_loss: 0.9700 - val_accuracy: 0.6604\n",
            "Epoch 8/40\n",
            "391/391 [==============================] - 5s 12ms/step - loss: 0.9428 - accuracy: 0.6677 - val_loss: 0.9421 - val_accuracy: 0.6801\n",
            "Epoch 9/40\n",
            "391/391 [==============================] - 4s 11ms/step - loss: 0.8864 - accuracy: 0.6884 - val_loss: 0.8944 - val_accuracy: 0.6914\n",
            "Epoch 10/40\n",
            "391/391 [==============================] - 5s 12ms/step - loss: 0.8511 - accuracy: 0.7014 - val_loss: 0.8727 - val_accuracy: 0.6952\n",
            "Epoch 11/40\n",
            "391/391 [==============================] - 5s 12ms/step - loss: 0.7952 - accuracy: 0.7196 - val_loss: 0.8324 - val_accuracy: 0.7090\n",
            "Epoch 12/40\n",
            "391/391 [==============================] - 5s 12ms/step - loss: 0.7492 - accuracy: 0.7365 - val_loss: 0.8158 - val_accuracy: 0.7217\n",
            "Epoch 13/40\n",
            "391/391 [==============================] - 5s 12ms/step - loss: 0.7151 - accuracy: 0.7498 - val_loss: 0.8219 - val_accuracy: 0.7168\n",
            "Epoch 14/40\n",
            "391/391 [==============================] - 5s 12ms/step - loss: 0.6838 - accuracy: 0.7604 - val_loss: 0.7902 - val_accuracy: 0.7220\n",
            "Epoch 15/40\n",
            "391/391 [==============================] - 5s 12ms/step - loss: 0.6606 - accuracy: 0.7701 - val_loss: 0.7875 - val_accuracy: 0.7296\n",
            "Epoch 16/40\n",
            "391/391 [==============================] - 5s 12ms/step - loss: 0.6267 - accuracy: 0.7780 - val_loss: 0.7698 - val_accuracy: 0.7327\n",
            "Epoch 17/40\n",
            "391/391 [==============================] - 5s 11ms/step - loss: 0.5865 - accuracy: 0.7932 - val_loss: 0.7422 - val_accuracy: 0.7439\n",
            "Epoch 18/40\n",
            "391/391 [==============================] - 5s 12ms/step - loss: 0.5727 - accuracy: 0.7962 - val_loss: 0.7433 - val_accuracy: 0.7415\n",
            "Epoch 19/40\n",
            "391/391 [==============================] - 5s 12ms/step - loss: 0.5462 - accuracy: 0.8079 - val_loss: 0.7708 - val_accuracy: 0.7373\n",
            "Epoch 20/40\n",
            "391/391 [==============================] - 5s 12ms/step - loss: 0.5296 - accuracy: 0.8130 - val_loss: 0.7444 - val_accuracy: 0.7458\n",
            "Epoch 21/40\n",
            "391/391 [==============================] - 5s 12ms/step - loss: 0.5041 - accuracy: 0.8227 - val_loss: 0.7625 - val_accuracy: 0.7448\n",
            "Epoch 22/40\n",
            "391/391 [==============================] - 5s 12ms/step - loss: 0.4758 - accuracy: 0.8324 - val_loss: 0.7526 - val_accuracy: 0.7487\n",
            "Network takes 102.619 seconds to train\n"
          ],
          "name": "stdout"
        },
        {
          "output_type": "display_data",
          "data": {
            "image/png": "[encoded data removed]",
            "text/plain": [
              "<Figure size 432x288 with 1 Axes>"
            ]
          },
          "metadata": {
            "tags": [],
            "needs_background": "light"
          }
        },
        {
          "output_type": "stream",
          "text": [
            "79/79 [==============================] - 0s 5ms/step - loss: 0.7422 - accuracy: 0.7439\n",
            "Final test accuracy: 74.390%\n"
          ],
          "name": "stdout"
        }
      ]
    }
  ]
}